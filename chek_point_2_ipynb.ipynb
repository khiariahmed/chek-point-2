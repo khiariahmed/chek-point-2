{
  "nbformat": 4,
  "nbformat_minor": 0,
  "metadata": {
    "colab": {
      "name": "   chek point 2       ipynb",
      "provenance": []
    },
    "kernelspec": {
      "name": "python3",
      "display_name": "Python 3"
    },
    "language_info": {
      "name": "python"
    }
  },
  "cells": [
    {
      "cell_type": "code",
      "metadata": {
        "colab": {
          "base_uri": "https://localhost:8080/"
        },
        "id": "pNrMjq7rSb-a",
        "outputId": "4728058e-4433-419a-da38-b2ad3e3c7c7d"
      },
      "source": [
        "fname=\"ahmed\"\n",
        "iname=\"khiari\"\n",
        "print(iname+fname)"
      ],
      "execution_count": 3,
      "outputs": [
        {
          "output_type": "stream",
          "text": [
            "khiariahmed\n"
          ],
          "name": "stdout"
        }
      ]
    },
    {
      "cell_type": "code",
      "metadata": {
        "colab": {
          "base_uri": "https://localhost:8080/"
        },
        "id": "ilC0rqGGRLnM",
        "outputId": "0a524414-fc18-4f4a-a2b0-8a17a0eec180"
      },
      "source": [
        "a = int(input(\"Input an integer : \"))\n",
        "n1 = int( \"%s\" % a )\n",
        "n2 = int( \"%s%s\" % (a,a) )\n",
        "n3 = int( \"%s%s%s\" % (a,a,a) )\n",
        "print (n1 + n2 +n3)"
      ],
      "execution_count": 23,
      "outputs": [
        {
          "output_type": "stream",
          "text": [
            "Input an integer : 4\n",
            "492\n"
          ],
          "name": "stdout"
        }
      ]
    },
    {
      "cell_type": "code",
      "metadata": {
        "colab": {
          "base_uri": "https://localhost:8080/"
        },
        "id": "gH8y4tFrTsNc",
        "outputId": "b7ba8501-b58c-46d1-f648-62885973a61b"
      },
      "source": [
        "num = int(input(\"Enter a number: \"))\n",
        "mod = num % 2\n",
        "if mod > 0:\n",
        "    print(\"This is an odd number.\")\n",
        "else:\n",
        "    print(\"This is an odd number.\")"
      ],
      "execution_count": 26,
      "outputs": [
        {
          "output_type": "stream",
          "text": [
            "Enter a number: 5\n",
            "This is an odd number.\n"
          ],
          "name": "stdout"
        }
      ]
    },
    {
      "cell_type": "code",
      "metadata": {
        "colab": {
          "base_uri": "https://localhost:8080/"
        },
        "id": "Ky7OM917UYa7",
        "outputId": "28fb82f5-3b7b-42e9-f3d2-26ce2da6579a"
      },
      "source": [
        "nl=[]\n",
        "for x in range(2000, 3200):\n",
        "    if (x%7==0) and (x%5==0):\n",
        "        nl.append(str(x))\n",
        "print (','.join(nl))"
      ],
      "execution_count": 27,
      "outputs": [
        {
          "output_type": "stream",
          "text": [
            "2030,2065,2100,2135,2170,2205,2240,2275,2310,2345,2380,2415,2450,2485,2520,2555,2590,2625,2660,2695,2730,2765,2800,2835,2870,2905,2940,2975,3010,3045,3080,3115,3150,3185\n"
          ],
          "name": "stdout"
        }
      ]
    },
    {
      "cell_type": "code",
      "metadata": {
        "colab": {
          "base_uri": "https://localhost:8080/"
        },
        "id": "OZxzXm-kUufD",
        "outputId": "3428ed55-6f89-40d0-e496-19231116a473"
      },
      "source": [
        "def factorial(n):\n",
        "    if n == 0:\n",
        "        return 1\n",
        "    else:\n",
        "        return n * factorial(n-1)\n",
        "n=int(input(\"Input a number to compute the factiorial : \"))\n",
        "print(factorial(n))"
      ],
      "execution_count": 30,
      "outputs": [
        {
          "output_type": "stream",
          "text": [
            "Input a number to compute the factiorial : 3\n",
            "6\n"
          ],
          "name": "stdout"
        }
      ]
    },
    {
      "cell_type": "code",
      "metadata": {
        "colab": {
          "base_uri": "https://localhost:8080/"
        },
        "id": "oB13IHnsVSij",
        "outputId": "18ca3e88-ab29-4730-f33e-46d2809398db"
      },
      "source": [
        "def odd_values_string(str):\n",
        "  result = \"\" \n",
        "  for i in range(len(str)):\n",
        "    if i % 2 == 0:\n",
        "      result = result + str[i]\n",
        "  return result\n",
        "\n",
        "print(odd_values_string('abcdef'))\n",
        "print(odd_values_string('python'))"
      ],
      "execution_count": 31,
      "outputs": [
        {
          "output_type": "stream",
          "text": [
            "ace\n",
            "pto\n"
          ],
          "name": "stdout"
        }
      ]
    }
  ]
}